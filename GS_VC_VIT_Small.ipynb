{
  "nbformat": 4,
  "nbformat_minor": 0,
  "metadata": {
    "colab": {
      "provenance": [],
      "gpuType": "T4"
    },
    "kernelspec": {
      "name": "python3",
      "display_name": "Python 3"
    },
    "language_info": {
      "name": "python"
    },
    "accelerator": "GPU",
    "widgets": {
      "application/vnd.jupyter.widget-state+json": {
        "874cd2b7217c4fea9e95f0c406117cf4": {
          "model_module": "@jupyter-widgets/controls",
          "model_name": "HBoxModel",
          "model_module_version": "1.5.0",
          "state": {
            "_dom_classes": [],
            "_model_module": "@jupyter-widgets/controls",
            "_model_module_version": "1.5.0",
            "_model_name": "HBoxModel",
            "_view_count": null,
            "_view_module": "@jupyter-widgets/controls",
            "_view_module_version": "1.5.0",
            "_view_name": "HBoxView",
            "box_style": "",
            "children": [
              "IPY_MODEL_aeecfc9db913435b9677db0ef5ab62bc",
              "IPY_MODEL_414955c619cf4333bd121e8d61e41969",
              "IPY_MODEL_5e604a42746c40efbae18c5fd5284007"
            ],
            "layout": "IPY_MODEL_804a7d7f0aae4bc2823d8cfe1e57e8e7"
          }
        },
        "aeecfc9db913435b9677db0ef5ab62bc": {
          "model_module": "@jupyter-widgets/controls",
          "model_name": "HTMLModel",
          "model_module_version": "1.5.0",
          "state": {
            "_dom_classes": [],
            "_model_module": "@jupyter-widgets/controls",
            "_model_module_version": "1.5.0",
            "_model_name": "HTMLModel",
            "_view_count": null,
            "_view_module": "@jupyter-widgets/controls",
            "_view_module_version": "1.5.0",
            "_view_name": "HTMLView",
            "description": "",
            "description_tooltip": null,
            "layout": "IPY_MODEL_1175fb4aa8cd46109d126158f3f6dbf3",
            "placeholder": "​",
            "style": "IPY_MODEL_a8ddfacc9bd44c4792c1ab2673c85d45",
            "value": "Processando imagens (num_proc=2): 100%"
          }
        },
        "414955c619cf4333bd121e8d61e41969": {
          "model_module": "@jupyter-widgets/controls",
          "model_name": "FloatProgressModel",
          "model_module_version": "1.5.0",
          "state": {
            "_dom_classes": [],
            "_model_module": "@jupyter-widgets/controls",
            "_model_module_version": "1.5.0",
            "_model_name": "FloatProgressModel",
            "_view_count": null,
            "_view_module": "@jupyter-widgets/controls",
            "_view_module_version": "1.5.0",
            "_view_name": "ProgressView",
            "bar_style": "success",
            "description": "",
            "description_tooltip": null,
            "layout": "IPY_MODEL_af7177e6603f4749957de13d883517e9",
            "max": 2489,
            "min": 0,
            "orientation": "horizontal",
            "style": "IPY_MODEL_b42e7ab89eb442908edc31d7da2e2439",
            "value": 2489
          }
        },
        "5e604a42746c40efbae18c5fd5284007": {
          "model_module": "@jupyter-widgets/controls",
          "model_name": "HTMLModel",
          "model_module_version": "1.5.0",
          "state": {
            "_dom_classes": [],
            "_model_module": "@jupyter-widgets/controls",
            "_model_module_version": "1.5.0",
            "_model_name": "HTMLModel",
            "_view_count": null,
            "_view_module": "@jupyter-widgets/controls",
            "_view_module_version": "1.5.0",
            "_view_name": "HTMLView",
            "description": "",
            "description_tooltip": null,
            "layout": "IPY_MODEL_382b02e0f1a04f6bb831a66b96f8a838",
            "placeholder": "​",
            "style": "IPY_MODEL_c95d8ed9a7b04c4fa8012300b3aded7a",
            "value": " 2489/2489 [01:50&lt;00:00, 13.48 examples/s]"
          }
        },
        "804a7d7f0aae4bc2823d8cfe1e57e8e7": {
          "model_module": "@jupyter-widgets/base",
          "model_name": "LayoutModel",
          "model_module_version": "1.2.0",
          "state": {
            "_model_module": "@jupyter-widgets/base",
            "_model_module_version": "1.2.0",
            "_model_name": "LayoutModel",
            "_view_count": null,
            "_view_module": "@jupyter-widgets/base",
            "_view_module_version": "1.2.0",
            "_view_name": "LayoutView",
            "align_content": null,
            "align_items": null,
            "align_self": null,
            "border": null,
            "bottom": null,
            "display": null,
            "flex": null,
            "flex_flow": null,
            "grid_area": null,
            "grid_auto_columns": null,
            "grid_auto_flow": null,
            "grid_auto_rows": null,
            "grid_column": null,
            "grid_gap": null,
            "grid_row": null,
            "grid_template_areas": null,
            "grid_template_columns": null,
            "grid_template_rows": null,
            "height": null,
            "justify_content": null,
            "justify_items": null,
            "left": null,
            "margin": null,
            "max_height": null,
            "max_width": null,
            "min_height": null,
            "min_width": null,
            "object_fit": null,
            "object_position": null,
            "order": null,
            "overflow": null,
            "overflow_x": null,
            "overflow_y": null,
            "padding": null,
            "right": null,
            "top": null,
            "visibility": null,
            "width": null
          }
        },
        "1175fb4aa8cd46109d126158f3f6dbf3": {
          "model_module": "@jupyter-widgets/base",
          "model_name": "LayoutModel",
          "model_module_version": "1.2.0",
          "state": {
            "_model_module": "@jupyter-widgets/base",
            "_model_module_version": "1.2.0",
            "_model_name": "LayoutModel",
            "_view_count": null,
            "_view_module": "@jupyter-widgets/base",
            "_view_module_version": "1.2.0",
            "_view_name": "LayoutView",
            "align_content": null,
            "align_items": null,
            "align_self": null,
            "border": null,
            "bottom": null,
            "display": null,
            "flex": null,
            "flex_flow": null,
            "grid_area": null,
            "grid_auto_columns": null,
            "grid_auto_flow": null,
            "grid_auto_rows": null,
            "grid_column": null,
            "grid_gap": null,
            "grid_row": null,
            "grid_template_areas": null,
            "grid_template_columns": null,
            "grid_template_rows": null,
            "height": null,
            "justify_content": null,
            "justify_items": null,
            "left": null,
            "margin": null,
            "max_height": null,
            "max_width": null,
            "min_height": null,
            "min_width": null,
            "object_fit": null,
            "object_position": null,
            "order": null,
            "overflow": null,
            "overflow_x": null,
            "overflow_y": null,
            "padding": null,
            "right": null,
            "top": null,
            "visibility": null,
            "width": null
          }
        },
        "a8ddfacc9bd44c4792c1ab2673c85d45": {
          "model_module": "@jupyter-widgets/controls",
          "model_name": "DescriptionStyleModel",
          "model_module_version": "1.5.0",
          "state": {
            "_model_module": "@jupyter-widgets/controls",
            "_model_module_version": "1.5.0",
            "_model_name": "DescriptionStyleModel",
            "_view_count": null,
            "_view_module": "@jupyter-widgets/base",
            "_view_module_version": "1.2.0",
            "_view_name": "StyleView",
            "description_width": ""
          }
        },
        "af7177e6603f4749957de13d883517e9": {
          "model_module": "@jupyter-widgets/base",
          "model_name": "LayoutModel",
          "model_module_version": "1.2.0",
          "state": {
            "_model_module": "@jupyter-widgets/base",
            "_model_module_version": "1.2.0",
            "_model_name": "LayoutModel",
            "_view_count": null,
            "_view_module": "@jupyter-widgets/base",
            "_view_module_version": "1.2.0",
            "_view_name": "LayoutView",
            "align_content": null,
            "align_items": null,
            "align_self": null,
            "border": null,
            "bottom": null,
            "display": null,
            "flex": null,
            "flex_flow": null,
            "grid_area": null,
            "grid_auto_columns": null,
            "grid_auto_flow": null,
            "grid_auto_rows": null,
            "grid_column": null,
            "grid_gap": null,
            "grid_row": null,
            "grid_template_areas": null,
            "grid_template_columns": null,
            "grid_template_rows": null,
            "height": null,
            "justify_content": null,
            "justify_items": null,
            "left": null,
            "margin": null,
            "max_height": null,
            "max_width": null,
            "min_height": null,
            "min_width": null,
            "object_fit": null,
            "object_position": null,
            "order": null,
            "overflow": null,
            "overflow_x": null,
            "overflow_y": null,
            "padding": null,
            "right": null,
            "top": null,
            "visibility": null,
            "width": null
          }
        },
        "b42e7ab89eb442908edc31d7da2e2439": {
          "model_module": "@jupyter-widgets/controls",
          "model_name": "ProgressStyleModel",
          "model_module_version": "1.5.0",
          "state": {
            "_model_module": "@jupyter-widgets/controls",
            "_model_module_version": "1.5.0",
            "_model_name": "ProgressStyleModel",
            "_view_count": null,
            "_view_module": "@jupyter-widgets/base",
            "_view_module_version": "1.2.0",
            "_view_name": "StyleView",
            "bar_color": null,
            "description_width": ""
          }
        },
        "382b02e0f1a04f6bb831a66b96f8a838": {
          "model_module": "@jupyter-widgets/base",
          "model_name": "LayoutModel",
          "model_module_version": "1.2.0",
          "state": {
            "_model_module": "@jupyter-widgets/base",
            "_model_module_version": "1.2.0",
            "_model_name": "LayoutModel",
            "_view_count": null,
            "_view_module": "@jupyter-widgets/base",
            "_view_module_version": "1.2.0",
            "_view_name": "LayoutView",
            "align_content": null,
            "align_items": null,
            "align_self": null,
            "border": null,
            "bottom": null,
            "display": null,
            "flex": null,
            "flex_flow": null,
            "grid_area": null,
            "grid_auto_columns": null,
            "grid_auto_flow": null,
            "grid_auto_rows": null,
            "grid_column": null,
            "grid_gap": null,
            "grid_row": null,
            "grid_template_areas": null,
            "grid_template_columns": null,
            "grid_template_rows": null,
            "height": null,
            "justify_content": null,
            "justify_items": null,
            "left": null,
            "margin": null,
            "max_height": null,
            "max_width": null,
            "min_height": null,
            "min_width": null,
            "object_fit": null,
            "object_position": null,
            "order": null,
            "overflow": null,
            "overflow_x": null,
            "overflow_y": null,
            "padding": null,
            "right": null,
            "top": null,
            "visibility": null,
            "width": null
          }
        },
        "c95d8ed9a7b04c4fa8012300b3aded7a": {
          "model_module": "@jupyter-widgets/controls",
          "model_name": "DescriptionStyleModel",
          "model_module_version": "1.5.0",
          "state": {
            "_model_module": "@jupyter-widgets/controls",
            "_model_module_version": "1.5.0",
            "_model_name": "DescriptionStyleModel",
            "_view_count": null,
            "_view_module": "@jupyter-widgets/base",
            "_view_module_version": "1.2.0",
            "_view_name": "StyleView",
            "description_width": ""
          }
        },
        "d9588c2a717e447ab5278c20eeedbc67": {
          "model_module": "@jupyter-widgets/controls",
          "model_name": "HBoxModel",
          "model_module_version": "1.5.0",
          "state": {
            "_dom_classes": [],
            "_model_module": "@jupyter-widgets/controls",
            "_model_module_version": "1.5.0",
            "_model_name": "HBoxModel",
            "_view_count": null,
            "_view_module": "@jupyter-widgets/controls",
            "_view_module_version": "1.5.0",
            "_view_name": "HBoxView",
            "box_style": "",
            "children": [
              "IPY_MODEL_c4926be7f795416fae2e17e60d098faa",
              "IPY_MODEL_a98bbd7690f64708b1b5f5253485ca36",
              "IPY_MODEL_59a9d02027544d12a3d0631c3ff924b7"
            ],
            "layout": "IPY_MODEL_aefc927192fb42ffa5cbd0b64c59f449"
          }
        },
        "c4926be7f795416fae2e17e60d098faa": {
          "model_module": "@jupyter-widgets/controls",
          "model_name": "HTMLModel",
          "model_module_version": "1.5.0",
          "state": {
            "_dom_classes": [],
            "_model_module": "@jupyter-widgets/controls",
            "_model_module_version": "1.5.0",
            "_model_name": "HTMLModel",
            "_view_count": null,
            "_view_module": "@jupyter-widgets/controls",
            "_view_module_version": "1.5.0",
            "_view_name": "HTMLView",
            "description": "",
            "description_tooltip": null,
            "layout": "IPY_MODEL_bd29eca45345413eaf6e7a70181a94b2",
            "placeholder": "​",
            "style": "IPY_MODEL_3dab1a74345b4e8e8f1c46f90d9f201b",
            "value": "Filter: 100%"
          }
        },
        "a98bbd7690f64708b1b5f5253485ca36": {
          "model_module": "@jupyter-widgets/controls",
          "model_name": "FloatProgressModel",
          "model_module_version": "1.5.0",
          "state": {
            "_dom_classes": [],
            "_model_module": "@jupyter-widgets/controls",
            "_model_module_version": "1.5.0",
            "_model_name": "FloatProgressModel",
            "_view_count": null,
            "_view_module": "@jupyter-widgets/controls",
            "_view_module_version": "1.5.0",
            "_view_name": "ProgressView",
            "bar_style": "success",
            "description": "",
            "description_tooltip": null,
            "layout": "IPY_MODEL_4b6d1a9018c44f9dae46d690a9d2ceb1",
            "max": 2489,
            "min": 0,
            "orientation": "horizontal",
            "style": "IPY_MODEL_338d4586a4a247fa8da41618573330fd",
            "value": 2489
          }
        },
        "59a9d02027544d12a3d0631c3ff924b7": {
          "model_module": "@jupyter-widgets/controls",
          "model_name": "HTMLModel",
          "model_module_version": "1.5.0",
          "state": {
            "_dom_classes": [],
            "_model_module": "@jupyter-widgets/controls",
            "_model_module_version": "1.5.0",
            "_model_name": "HTMLModel",
            "_view_count": null,
            "_view_module": "@jupyter-widgets/controls",
            "_view_module_version": "1.5.0",
            "_view_name": "HTMLView",
            "description": "",
            "description_tooltip": null,
            "layout": "IPY_MODEL_fc99d6d6916f4a68876df76bb8a77bc4",
            "placeholder": "​",
            "style": "IPY_MODEL_040343ec9b1d4fa6a130db946afe1c0e",
            "value": " 2489/2489 [04:46&lt;00:00,  8.67 examples/s]"
          }
        },
        "aefc927192fb42ffa5cbd0b64c59f449": {
          "model_module": "@jupyter-widgets/base",
          "model_name": "LayoutModel",
          "model_module_version": "1.2.0",
          "state": {
            "_model_module": "@jupyter-widgets/base",
            "_model_module_version": "1.2.0",
            "_model_name": "LayoutModel",
            "_view_count": null,
            "_view_module": "@jupyter-widgets/base",
            "_view_module_version": "1.2.0",
            "_view_name": "LayoutView",
            "align_content": null,
            "align_items": null,
            "align_self": null,
            "border": null,
            "bottom": null,
            "display": null,
            "flex": null,
            "flex_flow": null,
            "grid_area": null,
            "grid_auto_columns": null,
            "grid_auto_flow": null,
            "grid_auto_rows": null,
            "grid_column": null,
            "grid_gap": null,
            "grid_row": null,
            "grid_template_areas": null,
            "grid_template_columns": null,
            "grid_template_rows": null,
            "height": null,
            "justify_content": null,
            "justify_items": null,
            "left": null,
            "margin": null,
            "max_height": null,
            "max_width": null,
            "min_height": null,
            "min_width": null,
            "object_fit": null,
            "object_position": null,
            "order": null,
            "overflow": null,
            "overflow_x": null,
            "overflow_y": null,
            "padding": null,
            "right": null,
            "top": null,
            "visibility": null,
            "width": null
          }
        },
        "bd29eca45345413eaf6e7a70181a94b2": {
          "model_module": "@jupyter-widgets/base",
          "model_name": "LayoutModel",
          "model_module_version": "1.2.0",
          "state": {
            "_model_module": "@jupyter-widgets/base",
            "_model_module_version": "1.2.0",
            "_model_name": "LayoutModel",
            "_view_count": null,
            "_view_module": "@jupyter-widgets/base",
            "_view_module_version": "1.2.0",
            "_view_name": "LayoutView",
            "align_content": null,
            "align_items": null,
            "align_self": null,
            "border": null,
            "bottom": null,
            "display": null,
            "flex": null,
            "flex_flow": null,
            "grid_area": null,
            "grid_auto_columns": null,
            "grid_auto_flow": null,
            "grid_auto_rows": null,
            "grid_column": null,
            "grid_gap": null,
            "grid_row": null,
            "grid_template_areas": null,
            "grid_template_columns": null,
            "grid_template_rows": null,
            "height": null,
            "justify_content": null,
            "justify_items": null,
            "left": null,
            "margin": null,
            "max_height": null,
            "max_width": null,
            "min_height": null,
            "min_width": null,
            "object_fit": null,
            "object_position": null,
            "order": null,
            "overflow": null,
            "overflow_x": null,
            "overflow_y": null,
            "padding": null,
            "right": null,
            "top": null,
            "visibility": null,
            "width": null
          }
        },
        "3dab1a74345b4e8e8f1c46f90d9f201b": {
          "model_module": "@jupyter-widgets/controls",
          "model_name": "DescriptionStyleModel",
          "model_module_version": "1.5.0",
          "state": {
            "_model_module": "@jupyter-widgets/controls",
            "_model_module_version": "1.5.0",
            "_model_name": "DescriptionStyleModel",
            "_view_count": null,
            "_view_module": "@jupyter-widgets/base",
            "_view_module_version": "1.2.0",
            "_view_name": "StyleView",
            "description_width": ""
          }
        },
        "4b6d1a9018c44f9dae46d690a9d2ceb1": {
          "model_module": "@jupyter-widgets/base",
          "model_name": "LayoutModel",
          "model_module_version": "1.2.0",
          "state": {
            "_model_module": "@jupyter-widgets/base",
            "_model_module_version": "1.2.0",
            "_model_name": "LayoutModel",
            "_view_count": null,
            "_view_module": "@jupyter-widgets/base",
            "_view_module_version": "1.2.0",
            "_view_name": "LayoutView",
            "align_content": null,
            "align_items": null,
            "align_self": null,
            "border": null,
            "bottom": null,
            "display": null,
            "flex": null,
            "flex_flow": null,
            "grid_area": null,
            "grid_auto_columns": null,
            "grid_auto_flow": null,
            "grid_auto_rows": null,
            "grid_column": null,
            "grid_gap": null,
            "grid_row": null,
            "grid_template_areas": null,
            "grid_template_columns": null,
            "grid_template_rows": null,
            "height": null,
            "justify_content": null,
            "justify_items": null,
            "left": null,
            "margin": null,
            "max_height": null,
            "max_width": null,
            "min_height": null,
            "min_width": null,
            "object_fit": null,
            "object_position": null,
            "order": null,
            "overflow": null,
            "overflow_x": null,
            "overflow_y": null,
            "padding": null,
            "right": null,
            "top": null,
            "visibility": null,
            "width": null
          }
        },
        "338d4586a4a247fa8da41618573330fd": {
          "model_module": "@jupyter-widgets/controls",
          "model_name": "ProgressStyleModel",
          "model_module_version": "1.5.0",
          "state": {
            "_model_module": "@jupyter-widgets/controls",
            "_model_module_version": "1.5.0",
            "_model_name": "ProgressStyleModel",
            "_view_count": null,
            "_view_module": "@jupyter-widgets/base",
            "_view_module_version": "1.2.0",
            "_view_name": "StyleView",
            "bar_color": null,
            "description_width": ""
          }
        },
        "fc99d6d6916f4a68876df76bb8a77bc4": {
          "model_module": "@jupyter-widgets/base",
          "model_name": "LayoutModel",
          "model_module_version": "1.2.0",
          "state": {
            "_model_module": "@jupyter-widgets/base",
            "_model_module_version": "1.2.0",
            "_model_name": "LayoutModel",
            "_view_count": null,
            "_view_module": "@jupyter-widgets/base",
            "_view_module_version": "1.2.0",
            "_view_name": "LayoutView",
            "align_content": null,
            "align_items": null,
            "align_self": null,
            "border": null,
            "bottom": null,
            "display": null,
            "flex": null,
            "flex_flow": null,
            "grid_area": null,
            "grid_auto_columns": null,
            "grid_auto_flow": null,
            "grid_auto_rows": null,
            "grid_column": null,
            "grid_gap": null,
            "grid_row": null,
            "grid_template_areas": null,
            "grid_template_columns": null,
            "grid_template_rows": null,
            "height": null,
            "justify_content": null,
            "justify_items": null,
            "left": null,
            "margin": null,
            "max_height": null,
            "max_width": null,
            "min_height": null,
            "min_width": null,
            "object_fit": null,
            "object_position": null,
            "order": null,
            "overflow": null,
            "overflow_x": null,
            "overflow_y": null,
            "padding": null,
            "right": null,
            "top": null,
            "visibility": null,
            "width": null
          }
        },
        "040343ec9b1d4fa6a130db946afe1c0e": {
          "model_module": "@jupyter-widgets/controls",
          "model_name": "DescriptionStyleModel",
          "model_module_version": "1.5.0",
          "state": {
            "_model_module": "@jupyter-widgets/controls",
            "_model_module_version": "1.5.0",
            "_model_name": "DescriptionStyleModel",
            "_view_count": null,
            "_view_module": "@jupyter-widgets/base",
            "_view_module_version": "1.2.0",
            "_view_name": "StyleView",
            "description_width": ""
          }
        }
      }
    }
  },
  "cells": [
    {
      "cell_type": "code",
      "execution_count": 4,
      "metadata": {
        "id": "XDmE-2e5N4Bc"
      },
      "outputs": [],
      "source": [
        "!pip install -q --upgrade --no-deps \\\n",
        "    transformers==4.52.4 datasets accelerate evaluate huggingface-hub safetensors tokenizers \\\n",
        "    multiprocess dill xxhash pyarrow"
      ]
    },
    {
      "cell_type": "code",
      "source": [
        "!pip install -q --upgrade \\\n",
        "  \"torch==2.2.2+cpu\" torchvision --index-url https://download.pytorch.org/whl/cpu \\\n",
        "  transformers==4.52.4 datasets accelerate evaluate safetensors \\\n",
        "  multiprocess dill xxhash pyarrow"
      ],
      "metadata": {
        "colab": {
          "base_uri": "https://localhost:8080/"
        },
        "id": "QCh-CpJLWu8F",
        "outputId": "8805cb0f-5b01-43b8-b6af-65e979528a76"
      },
      "execution_count": 5,
      "outputs": [
        {
          "output_type": "stream",
          "name": "stdout",
          "text": [
            "\u001b[31mERROR: Cannot install datasets==3.6.0 and dill because these package versions have conflicting dependencies.\u001b[0m\u001b[31m\n",
            "\u001b[0m\u001b[31mERROR: ResolutionImpossible: for help visit https://pip.pypa.io/en/latest/topics/dependency-resolution/#dealing-with-dependency-conflicts\u001b[0m\u001b[31m\n",
            "\u001b[0m"
          ]
        }
      ]
    },
    {
      "cell_type": "code",
      "source": [
        "!pip uninstall -y datasets dill"
      ],
      "metadata": {
        "colab": {
          "base_uri": "https://localhost:8080/"
        },
        "id": "HznY-ob3iYSJ",
        "outputId": "8af636c5-bf28-4b94-a868-9186904f9cff"
      },
      "execution_count": 23,
      "outputs": [
        {
          "output_type": "stream",
          "name": "stdout",
          "text": [
            "Found existing installation: datasets 3.6.0\n",
            "Uninstalling datasets-3.6.0:\n",
            "  Successfully uninstalled datasets-3.6.0\n",
            "Found existing installation: dill 0.3.8\n",
            "Uninstalling dill-0.3.8:\n",
            "  Successfully uninstalled dill-0.3.8\n"
          ]
        }
      ]
    },
    {
      "cell_type": "code",
      "source": [
        "!pip install -q --upgrade \\\n",
        "  datasets evaluate multiprocess dill xxhash pyarrow"
      ],
      "metadata": {
        "id": "89HOVDriiYkM"
      },
      "execution_count": 24,
      "outputs": []
    },
    {
      "cell_type": "code",
      "source": [
        "import datasets, dill\n",
        "print(\"datasets:\", datasets.__version__)\n",
        "print(\"dill    :\", dill.__version__)"
      ],
      "metadata": {
        "colab": {
          "base_uri": "https://localhost:8080/"
        },
        "id": "no8pevphiWFs",
        "outputId": "f8517ddf-41c4-43f2-b599-142796735e2a"
      },
      "execution_count": 26,
      "outputs": [
        {
          "output_type": "stream",
          "name": "stdout",
          "text": [
            "datasets: 3.6.0\n",
            "dill    : 0.4.0\n"
          ]
        }
      ]
    },
    {
      "cell_type": "code",
      "source": [
        "from accelerate.state import AcceleratorState\n",
        "AcceleratorState._reset_state()"
      ],
      "metadata": {
        "id": "Cmat8Z2Hg6aG"
      },
      "execution_count": 27,
      "outputs": []
    },
    {
      "cell_type": "code",
      "source": [
        "import glob, os, pandas as pd\n",
        "\n",
        "local_root = \"/content/Data\"      # pasta que contém suas sub-pastas de imagens\n",
        "paths = [p for p in glob.glob(f\"{local_root}/**/*.*\", recursive=True)\n",
        "         if p.lower().endswith(('.jpg', '.jpeg', '.png'))]\n",
        "\n",
        "df = pd.DataFrame({\n",
        "    \"image_path\": paths,\n",
        "    \"label\"     : [os.path.basename(os.path.dirname(p)) for p in paths]\n",
        "})\n",
        "print(len(df), \"imagens –\", df.label.nunique(), \"classes\")"
      ],
      "metadata": {
        "colab": {
          "base_uri": "https://localhost:8080/"
        },
        "id": "2Te3NPGgg7og",
        "outputId": "abc82d37-1a5d-4aa0-c6e5-e50e6753930b"
      },
      "execution_count": 28,
      "outputs": [
        {
          "output_type": "stream",
          "name": "stdout",
          "text": [
            "2489 imagens – 3 classes\n"
          ]
        }
      ]
    },
    {
      "cell_type": "code",
      "source": [
        "from datasets import Dataset, Features, ClassLabel, Image as HFImage\n",
        "from transformers import AutoImageProcessor\n",
        "from PIL import ImageFile\n",
        "ImageFile.LOAD_TRUNCATED_IMAGES = True          # lê imagens incompletas\n",
        "\n",
        "model_name = \"facebook/dino-vits8\"\n",
        "processor  = AutoImageProcessor.from_pretrained(model_name, use_fast=True)"
      ],
      "metadata": {
        "id": "u-5VO-XuhdqQ"
      },
      "execution_count": 29,
      "outputs": []
    },
    {
      "cell_type": "code",
      "source": [
        "labels   = sorted(df.label.unique())\n",
        "features = Features({\"image\": HFImage(), \"label\": ClassLabel(names=labels)})\n",
        "\n",
        "ds = Dataset.from_pandas(df[[\"image_path\",\"label\"]].rename(columns={\"image_path\":\"image\"}),\n",
        "                         features=features)\n",
        "\n",
        "def preprocess(example):\n",
        "    try:\n",
        "        img = example[\"image\"].convert(\"RGB\")\n",
        "        example[\"pixel_values\"] = processor(img, return_tensors=\"pt\")[\"pixel_values\"][0]\n",
        "    except Exception as e:\n",
        "        print(\">> imagem ignorada:\", e)\n",
        "        example[\"pixel_values\"] = None\n",
        "    return example\n",
        "\n"
      ],
      "metadata": {
        "id": "EPvX-zavg9bG"
      },
      "execution_count": 30,
      "outputs": []
    },
    {
      "cell_type": "code",
      "source": [
        "ds = ds.map(preprocess, num_proc=2, remove_columns=[\"image\"], desc=\"Processando imagens\")\n",
        "ds = ds.filter(lambda ex: ex[\"pixel_values\"] is not None)\n",
        "ds.set_format(type=\"torch\")\n",
        "\n",
        "split     = ds.train_test_split(test_size=0.2, stratify_by_column=\"label\", seed=42)\n",
        "train_ds, test_ds = split[\"train\"], split[\"test\"]\n",
        "\n",
        "print(train_ds, test_ds)"
      ],
      "metadata": {
        "colab": {
          "base_uri": "https://localhost:8080/",
          "height": 203,
          "referenced_widgets": [
            "874cd2b7217c4fea9e95f0c406117cf4",
            "aeecfc9db913435b9677db0ef5ab62bc",
            "414955c619cf4333bd121e8d61e41969",
            "5e604a42746c40efbae18c5fd5284007",
            "804a7d7f0aae4bc2823d8cfe1e57e8e7",
            "1175fb4aa8cd46109d126158f3f6dbf3",
            "a8ddfacc9bd44c4792c1ab2673c85d45",
            "af7177e6603f4749957de13d883517e9",
            "b42e7ab89eb442908edc31d7da2e2439",
            "382b02e0f1a04f6bb831a66b96f8a838",
            "c95d8ed9a7b04c4fa8012300b3aded7a",
            "d9588c2a717e447ab5278c20eeedbc67",
            "c4926be7f795416fae2e17e60d098faa",
            "a98bbd7690f64708b1b5f5253485ca36",
            "59a9d02027544d12a3d0631c3ff924b7",
            "aefc927192fb42ffa5cbd0b64c59f449",
            "bd29eca45345413eaf6e7a70181a94b2",
            "3dab1a74345b4e8e8f1c46f90d9f201b",
            "4b6d1a9018c44f9dae46d690a9d2ceb1",
            "338d4586a4a247fa8da41618573330fd",
            "fc99d6d6916f4a68876df76bb8a77bc4",
            "040343ec9b1d4fa6a130db946afe1c0e"
          ]
        },
        "id": "tlTGVYxeh5si",
        "outputId": "539688cf-1abb-40a7-fa14-aafbbadc36e7"
      },
      "execution_count": 31,
      "outputs": [
        {
          "output_type": "display_data",
          "data": {
            "text/plain": [
              "Processando imagens (num_proc=2):   0%|          | 0/2489 [00:00<?, ? examples/s]"
            ],
            "application/vnd.jupyter.widget-view+json": {
              "version_major": 2,
              "version_minor": 0,
              "model_id": "874cd2b7217c4fea9e95f0c406117cf4"
            }
          },
          "metadata": {}
        },
        {
          "output_type": "display_data",
          "data": {
            "text/plain": [
              "Filter:   0%|          | 0/2489 [00:00<?, ? examples/s]"
            ],
            "application/vnd.jupyter.widget-view+json": {
              "version_major": 2,
              "version_minor": 0,
              "model_id": "d9588c2a717e447ab5278c20eeedbc67"
            }
          },
          "metadata": {}
        },
        {
          "output_type": "stream",
          "name": "stdout",
          "text": [
            "Dataset({\n",
            "    features: ['label', 'pixel_values'],\n",
            "    num_rows: 1991\n",
            "}) Dataset({\n",
            "    features: ['label', 'pixel_values'],\n",
            "    num_rows: 498\n",
            "})\n"
          ]
        }
      ]
    },
    {
      "cell_type": "code",
      "source": [
        "import torch\n",
        "def collate_fn(batch):\n",
        "    return {\n",
        "        \"pixel_values\": torch.stack([x[\"pixel_values\"] for x in batch]),\n",
        "        \"labels\"      : torch.tensor([x[\"label\"] for x in batch])\n",
        "    }"
      ],
      "metadata": {
        "id": "ip4dXNzNhG60"
      },
      "execution_count": 32,
      "outputs": []
    },
    {
      "cell_type": "code",
      "source": [
        "from transformers import AutoModelForImageClassification, TrainingArguments, Trainer\n",
        "import evaluate, numpy as np, inspect, os\n",
        "\n",
        "# modelo\n",
        "model = AutoModelForImageClassification.from_pretrained(\n",
        "    model_name,\n",
        "    num_labels=len(labels),\n",
        "    label2id={l:i for i,l in enumerate(labels)},\n",
        "    id2label={i:l for i,l in enumerate(labels)},\n",
        "    ignore_mismatched_sizes=True,\n",
        ")\n"
      ],
      "metadata": {
        "colab": {
          "base_uri": "https://localhost:8080/"
        },
        "id": "T6rH6mqaidbc",
        "outputId": "02f52651-54e9-4939-c5ef-e1f1655b4c13"
      },
      "execution_count": 33,
      "outputs": [
        {
          "output_type": "stream",
          "name": "stderr",
          "text": [
            "Some weights of ViTForImageClassification were not initialized from the model checkpoint at facebook/dino-vits8 and are newly initialized: ['classifier.bias', 'classifier.weight']\n",
            "You should probably TRAIN this model on a down-stream task to be able to use it for predictions and inference.\n"
          ]
        }
      ]
    },
    {
      "cell_type": "code",
      "source": [
        "\n",
        "# congela encoders (treina só o classificador)\n",
        "for p in model.vit.parameters():\n",
        "    p.requires_grad = False"
      ],
      "metadata": {
        "id": "zgVgqaO6ihOZ"
      },
      "execution_count": 34,
      "outputs": []
    },
    {
      "cell_type": "code",
      "source": [
        "# parâmetro de avaliação (nome varia em algumas builds)\n",
        "EVAL_ARG = (\n",
        "    \"evaluation_strategy\"\n",
        "    if \"evaluation_strategy\" in inspect.signature(TrainingArguments.__init__).parameters\n",
        "    else \"eval_strategy\"\n",
        ")\n",
        "\n",
        "out_dir = \"/content/modelo_vit_cpu\"\n",
        "os.makedirs(out_dir, exist_ok=True)\n",
        "\n",
        "training_args = TrainingArguments(\n",
        "    output_dir                = out_dir,\n",
        "    per_device_train_batch_size = 8,\n",
        "    per_device_eval_batch_size  = 8,\n",
        "    num_train_epochs          = 2,\n",
        "    learning_rate             = 1e-4,\n",
        "    logging_strategy          = \"epoch\",\n",
        "    save_strategy             = \"epoch\",\n",
        "    **{EVAL_ARG: \"epoch\"},            # avaliação na mesma cadência\n",
        "    load_best_model_at_end    = True,\n",
        "    metric_for_best_model     = \"eval_accuracy\",\n",
        "    remove_unused_columns     = False,\n",
        "    report_to                 = \"none\",\n",
        "    use_cpu                   = True,\n",
        ")\n",
        "\n",
        "metric_acc = evaluate.load(\"accuracy\")\n",
        "def compute_metrics(p):\n",
        "    preds = np.argmax(p.predictions, axis=1)\n",
        "    return metric_acc.compute(predictions=preds, references=p.label_ids)\n",
        "\n",
        "trainer = Trainer(\n",
        "    model           = model,\n",
        "    args            = training_args,\n",
        "    train_dataset   = train_ds,\n",
        "    eval_dataset    = test_ds,\n",
        "    data_collator   = collate_fn,\n",
        "    compute_metrics = compute_metrics,\n",
        ")"
      ],
      "metadata": {
        "id": "0Dpp6EsphHMF"
      },
      "execution_count": 35,
      "outputs": []
    },
    {
      "cell_type": "code",
      "source": [
        "trainer.train()"
      ],
      "metadata": {
        "colab": {
          "base_uri": "https://localhost:8080/",
          "height": 173
        },
        "id": "WfJ5Kdb-hIk8",
        "outputId": "1560b575-2394-4a25-ed67-816acb55882f"
      },
      "execution_count": 36,
      "outputs": [
        {
          "output_type": "display_data",
          "data": {
            "text/plain": [
              "<IPython.core.display.HTML object>"
            ],
            "text/html": [
              "\n",
              "    <div>\n",
              "      \n",
              "      <progress value='498' max='498' style='width:300px; height:20px; vertical-align: middle;'></progress>\n",
              "      [498/498 1:19:23, Epoch 2/2]\n",
              "    </div>\n",
              "    <table border=\"1\" class=\"dataframe\">\n",
              "  <thead>\n",
              " <tr style=\"text-align: left;\">\n",
              "      <th>Epoch</th>\n",
              "      <th>Training Loss</th>\n",
              "      <th>Validation Loss</th>\n",
              "      <th>Accuracy</th>\n",
              "    </tr>\n",
              "  </thead>\n",
              "  <tbody>\n",
              "    <tr>\n",
              "      <td>1</td>\n",
              "      <td>0.525000</td>\n",
              "      <td>0.326373</td>\n",
              "      <td>0.887550</td>\n",
              "    </tr>\n",
              "    <tr>\n",
              "      <td>2</td>\n",
              "      <td>0.297000</td>\n",
              "      <td>0.276902</td>\n",
              "      <td>0.911647</td>\n",
              "    </tr>\n",
              "  </tbody>\n",
              "</table><p>"
            ]
          },
          "metadata": {}
        },
        {
          "output_type": "execute_result",
          "data": {
            "text/plain": [
              "TrainOutput(global_step=498, training_loss=0.4109785394017476, metrics={'train_runtime': 4771.1323, 'train_samples_per_second': 0.835, 'train_steps_per_second': 0.104, 'total_flos': 7.793944461409075e+16, 'train_loss': 0.4109785394017476, 'epoch': 2.0})"
            ]
          },
          "metadata": {},
          "execution_count": 36
        }
      ]
    },
    {
      "cell_type": "code",
      "source": [
        "# ==============================================================\n",
        "# 1. Avaliação numérica rápida\n",
        "# ==============================================================\n",
        "metrics = trainer.evaluate()\n",
        "print(f\"Acurácia validação: {metrics['eval_accuracy']*100:.2f}%\")\n",
        "print(f\"Loss validação    : {metrics['eval_loss']:.4f}\")\n"
      ],
      "metadata": {
        "colab": {
          "base_uri": "https://localhost:8080/",
          "height": 72
        },
        "id": "55UTNBVXv052",
        "outputId": "39d32682-bf53-4429-b230-2948dff19070"
      },
      "execution_count": 37,
      "outputs": [
        {
          "output_type": "display_data",
          "data": {
            "text/plain": [
              "<IPython.core.display.HTML object>"
            ],
            "text/html": [
              "\n",
              "    <div>\n",
              "      \n",
              "      <progress value='63' max='63' style='width:300px; height:20px; vertical-align: middle;'></progress>\n",
              "      [63/63 07:47]\n",
              "    </div>\n",
              "    "
            ]
          },
          "metadata": {}
        },
        {
          "output_type": "stream",
          "name": "stdout",
          "text": [
            "Acurácia validação: 91.16%\n",
            "Loss validação    : 0.2769\n"
          ]
        }
      ]
    },
    {
      "cell_type": "code",
      "source": [
        "# --------------------------------------------------------------\n",
        "# 2. Matriz de confusão + relatório por classe\n",
        "# --------------------------------------------------------------\n",
        "import numpy as np, seaborn as sns\n",
        "from sklearn.metrics import confusion_matrix, classification_report\n",
        "\n",
        "# Faz predições no conjunto de teste\n",
        "preds = trainer.predict(test_ds)\n",
        "y_true = preds.label_ids\n",
        "y_pred = np.argmax(preds.predictions, axis=1)\n",
        "\n",
        "# Matriz de confusão\n",
        "cm = confusion_matrix(y_true, y_pred)\n",
        "labels = test_ds.features[\"label\"].names\n",
        "sns.heatmap(cm, annot=True, fmt=\"d\", cmap=\"Blues\",\n",
        "            xticklabels=labels, yticklabels=labels)\n",
        "plt.xlabel(\"Previsto\"); plt.ylabel(\"Real\")\n",
        "plt.title(\"Matriz de Confusão\"); plt.show()\n",
        "\n",
        "# Relatório detalhado (precision/recall/F1 por classe)\n",
        "print(\"Relatório de classificação:\\n\",\n",
        "      classification_report(y_true, y_pred, target_names=labels, digits=3))"
      ],
      "metadata": {
        "colab": {
          "base_uri": "https://localhost:8080/",
          "height": 663
        },
        "id": "JTtxMfBAninl",
        "outputId": "ba8cdcd0-8eb3-4aed-f56a-4cfa771b3ba7"
      },
      "execution_count": 39,
      "outputs": [
        {
          "output_type": "display_data",
          "data": {
            "text/plain": [
              "<IPython.core.display.HTML object>"
            ],
            "text/html": []
          },
          "metadata": {}
        },
        {
          "output_type": "display_data",
          "data": {
            "text/plain": [
              "<Figure size 640x480 with 2 Axes>"
            ],
            "image/png": "[encoded data removed]"
          },
          "metadata": {}
        },
        {
          "output_type": "stream",
          "name": "stdout",
          "text": [
            "Relatório de classificação:\n",
            "                 precision    recall  f1-score   support\n",
            "\n",
            "    Earthquake      0.000     0.000     0.000         7\n",
            "Infrastructure      0.906     0.951     0.928       284\n",
            "Water_Disaster      0.929     0.889     0.909       207\n",
            "\n",
            "      accuracy                          0.912       498\n",
            "     macro avg      0.612     0.613     0.612       498\n",
            "  weighted avg      0.903     0.912     0.907       498\n",
            "\n"
          ]
        }
      ]
    },
    {
      "cell_type": "markdown",
      "source": [
        "# Relatório Técnico Final: Classificação de Tipos de Desastres com Vision Transformer (ViT)\n",
        "\n",
        "## 1. Descrição do Dataset e Análise Exploratória\n",
        "\n",
        "O dataset utilizado, \"Disaster Images Dataset\", foi analisado para entender sua composição. A análise exploratória revelou:\n",
        "\n",
        "* **Total de Imagens:** 2489 imagens válidas após a limpeza de arquivos corrompidos.\n",
        "* **Classes:** O dataset está dividido em três categorias principais: `Infrastructure`, `Water_Disaster` e `Earthquake`.\n",
        "* **Desbalanceamento Severo:** A distribuição das imagens é extremamente desigual, como mostra a contagem:\n",
        "    * **Infrastructure:** 1418 imagens (~57%)\n",
        "    * **Water_Disaster:** 1035 imagens (~42%)\n",
        "    * **Earthquake:** 36 imagens (~1.4%)\n",
        "* **Variedade Visual:** As imagens apresentam grande variedade de resoluções, ângulos e condições de iluminação. A análise visual mostrou que as classes `Infrastructure` e `Earthquake` compartilham características visuais (destruição de estruturas), o que pode representar um desafio para o classificador.\n",
        "\n",
        "Este desbalanceamento é o fator mais **crítico** do dataset e tem um impacto direto e esperado no desempenho do modelo.\n",
        "\n",
        "## 2. Estrutura do Modelo e Justificativas\n",
        "\n",
        "Para esta tarefa, foi utilizada uma abordagem de **Transfer Learning** com o modelo **DINO ViT-Small/8** (`facebook/dino-vits8`). A escolha foi motivada por vários fatores:\n",
        "\n",
        "* **Arquitetura Vision Transformer (ViT):** Modelos baseados em Transformer demonstraram performance de ponta em tarefas de visão computacional, capturando relações globais na imagem de forma eficaz.\n",
        "* **Treinamento Auto-Supervisionado (DINO):** O checkpoint DINO foi pré-treinado sem a necessidade de rótulos, aprendendo representações semânticas ricas que são altamente transferíveis para novas tarefas, mesmo com poucos dados.\n",
        "* **Eficiência Computacional:** A variante \"Small\" (ViT-S/8) é significativamente mais leve que modelos como ViT-Base, tornando o treinamento viável em CPU.\n",
        "* **Estratégia de Fine-Tuning:** Para acelerar o treinamento e evitar *overfitting* em um dataset pequeno, **apenas o cabeçalho de classificação** foi treinado, enquanto os pesos do *backbone* (os encoders do ViT) foram congelados.\n",
        "\n",
        "A estrutura final consistiu em:\n",
        "\n",
        "* **Backbone Congelado:** O DINO ViT-S/8, que processa a imagem de entrada (redimensionada para 224x224) e extrai um vetor de características.\n",
        "* **Cabeçalho de Classificação Treinável:** Uma camada linear (`nn.Linear`) adicionada ao final, que mapeia o vetor de características para 3 logits, um para cada classe de desastre.\n",
        "\n",
        "## 3. Métricas de Avaliação e Gráficos\n",
        "\n",
        "O modelo foi treinado por 2 épocas e avaliado no conjunto de teste.\n",
        "\n",
        "### a. Curvas de Treino e Validação\n",
        "\n",
        "*(Aqui seria inserido o gráfico gerado)*\n",
        "\n",
        "**Descrição:** As curvas de treinamento mostraram que a perda de treino (`train_loss`) diminuiu consistentemente, enquanto a acurácia de validação (`val_acc`) estabilizou-se rapidamente em torno de 91%. Isso indica que o modelo, mesmo treinando apenas o classificador, foi capaz de aprender a separar as classes majoritárias de forma eficaz e rápida.\n",
        "\n",
        "### b. Métricas de Desempenho no Conjunto de Teste\n",
        "\n",
        "A avaliação final no conjunto de teste produziu os seguintes resultados:\n",
        "\n",
        "| Classe | Precision | Recall | F1-Score | Support |\n",
        "| :--- | :---: | :---: | :---: | :---: |\n",
        "| Earthquake | 0.000 | 0.000 | 0.000 | 7 |\n",
        "| Infrastructure | 0.906 | 0.951 | 0.928 | 284 |\n",
        "| Water_Disaster | 0.929 | 0.889 | 0.909 | 207 |\n",
        "| **Accuracy** | | | **0.912** | **498** |\n",
        "| **Macro Avg** | 0.612 | 0.613 | 0.612 | 498 |\n",
        "| **Weighted Avg** | 0.903 | 0.912 | 0.907 | 498 |\n",
        "\n",
        "\n",
        "## 4. Análise Crítica dos Resultados e Sugestões de Melhoria\n",
        "\n",
        "### Análise Crítica\n",
        "\n",
        "A **acurácia global de 91.2% é enganosa**. Ela mascara uma falha grave do modelo: a incapacidade total de identificar a classe `Earthquake`, que obteve **recall de 0.0**. O modelo aprendeu a maximizar a acurácia ignorando completamente a classe minoritária, um comportamento clássico em datasets desbalanceados.\n",
        "\n",
        "As métricas **Macro Avg** (que trata todas as classes com peso igual) revelam a verdade: um **F1-Score de 0.612** mostra que o desempenho médio do modelo é medíocre. Em contrapartida, a **Weighted Avg (0.907)** é alta porque dá mais importância às classes com mais amostras, escondendo o problema.\n",
        "\n",
        "### Sugestões de Melhoria\n",
        "\n",
        "Para resolver a falha principal, as seguintes estratégias são recomendadas:\n",
        "\n",
        "* **Tratamento do Desbalanceamento (Prioridade Máxima):**\n",
        "    * **Ponderação de Classes:** Utilizar o argumento `weight` na `nn.CrossEntropyLoss` para penalizar mais fortemente os erros na classe `Earthquake`.\n",
        "    * **Oversampling da Classe Minoritária:** Criar cópias das imagens de `Earthquake` no conjunto de treino, aplicando *data augmentation* para gerar variações e evitar que o modelo veja sempre os mesmos exemplos.\n",
        "* **Fine-Tuning do Backbone:**\n",
        "    * Em vez de congelar todo o backbone, descongelar as últimas camadas do ViT e treiná-las com uma taxa de aprendizado muito baixa (*learning rate* diferencial). Isso permitiria que o modelo ajustasse suas características visuais para o domínio específico dos desastres, o que poderia ajudar a diferenciar `Earthquake` de `Infrastructure`.\n",
        "* **Data Augmentation Mais Agressiva:**\n",
        "    * Além das transformações já utilizadas, experimentar `RandomRotation` e `RandomAffine` para criar ainda mais diversidade, especialmente para a classe minoritária.\n",
        "\n",
        "## 5. Reflexão Final\n",
        "\n",
        "Este projeto demonstrou a aplicação de um modelo Vision Transformer (ViT) para a classificação de desastres, utilizando uma abordagem de *transfer learning* eficiente para hardware limitado. O resultado expõe uma das maiores armadilhas em Machine Learning: **métricas de vaidade** como a acurácia global podem esconder falhas críticas. Em um contexto de resposta a desastres, um modelo que acerta 91% das vezes, mas falha em identificar 100% dos terremotos, não é apenas **inútil, mas perigoso**.\n",
        "\n",
        "Isso reforça a importância de uma análise exploratória minuciosa e da escolha de métricas de avaliação adequadas ao problema (como *recall* por classe ou F1-Score macro). A aplicação de técnicas de balanceamento e um *fine-tuning* mais cuidadoso não são apenas \"otimizações\", mas etapas essenciais para construir um sistema de visão computacional minimamente confiável e **responsável para aplicações do mundo real**."
      ],
      "metadata": {
        "id": "LwoPM-ixEynr"
      }
    }
  ]
}